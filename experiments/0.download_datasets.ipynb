{
 "cells": [
  {
   "cell_type": "code",
   "execution_count": 5,
   "id": "b4449f62-c840-44a2-8f73-5a0291a0a3f9",
   "metadata": {},
   "outputs": [
    {
     "name": "stdout",
     "output_type": "stream",
     "text": [
      "Note: you may need to restart the kernel to use updated packages.\n"
     ]
    }
   ],
   "source": [
    "%pip install -qq -r ../requirements.txt"
   ]
  },
  {
   "cell_type": "code",
   "execution_count": 6,
   "id": "8a424d92-30af-4a19-bdfa-d7c543ab67f9",
   "metadata": {},
   "outputs": [],
   "source": [
    "from minio import Minio\n",
    "import pandas as pd"
   ]
  },
  {
   "cell_type": "code",
   "execution_count": 7,
   "id": "b185ef4a-87db-41fd-9d15-e2abb937b3f0",
   "metadata": {},
   "outputs": [],
   "source": [
    "minio_client = Minio(\n",
    "    \"minio-api.digitalhub-test.smartcommunitylab.it\",\n",
    "    access_key=\"AK\",\n",
    "    secret_key=\"SK\"\n",
    ")"
   ]
  },
  {
   "cell_type": "markdown",
   "id": "93f59041-e458-4da5-b1ee-52cb8786fbaa",
   "metadata": {},
   "source": [
    "# Download overtourism datasets from the minio bucket"
   ]
  },
  {
   "cell_type": "code",
   "execution_count": 9,
   "id": "9cf9967b-9262-4af6-afd9-cc0c580e43bf",
   "metadata": {},
   "outputs": [],
   "source": [
    "objects = minio_client.list_objects(\"datalake\", prefix=\"projects/tourism\", recursive=True)\n",
    "for obj in objects:\n",
    "    minio_client.fget_object(obj.bucket_name, obj.object_name, f\"datasets/{obj.object_name[len('projects/tourism/'):]}\")"
   ]
  },
  {
   "cell_type": "code",
   "execution_count": null,
   "id": "8b78bb27-bff6-4b8f-a19f-bfc905dca859",
   "metadata": {},
   "outputs": [],
   "source": []
  }
 ],
 "metadata": {
  "kernelspec": {
   "display_name": "digitalhub-core",
   "language": "python",
   "name": "digitalhub-core"
  },
  "language_info": {
   "codemirror_mode": {
    "name": "ipython",
    "version": 3
   },
   "file_extension": ".py",
   "mimetype": "text/x-python",
   "name": "python",
   "nbconvert_exporter": "python",
   "pygments_lexer": "ipython3",
   "version": "3.9.19"
  }
 },
 "nbformat": 4,
 "nbformat_minor": 5
}
